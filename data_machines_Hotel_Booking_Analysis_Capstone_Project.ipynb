{
  "cells": [
    {
      "cell_type": "markdown",
      "metadata": {
        "id": "view-in-github",
        "colab_type": "text"
      },
      "source": [
        "<a href=\"https://colab.research.google.com/github/mdabushad/Hotel-Booking-Analysis-EDA-Capstone/blob/main/data_machines_Hotel_Booking_Analysis_Capstone_Project.ipynb\" target=\"_parent\"><img src=\"https://colab.research.google.com/assets/colab-badge.svg\" alt=\"Open In Colab\"/></a>"
      ]
    },
    {
      "cell_type": "markdown",
      "metadata": {
        "id": "JAULdOmVT6eA"
      },
      "source": [
        "## <b> Have you ever wondered when the best time of year to book a hotel room is? Or the optimal length of stay in order to get the best daily rate? What if you wanted to predict whether or not a hotel was likely to receive a disproportionately high number of special requests? This hotel booking dataset can help you explore those questions!\n",
        "\n",
        "## <b>This data set contains booking information for a city hotel and a resort hotel, and includes information such as when the booking was made, length of stay, the number of adults, children, and/or babies, and the number of available parking spaces, among other things. All personally identifying information has been removed from the data. </b>\n",
        "\n",
        "## <b> Explore and analyze the data to discover important factors that govern the bookings. </b>"
      ]
    },
    {
      "cell_type": "markdown",
      "metadata": {
        "id": "BD-lI6LxUF90"
      },
      "source": [
        "## Data collection and data cleaning:\n",
        "\n",
        "### Import required libraries"
      ]
    },
    {
      "cell_type": "code",
      "execution_count": 106,
      "metadata": {
        "id": "8J1ksQpDUpbu"
      },
      "outputs": [],
      "source": [
        "import numpy as np # linear algebra\n",
        "import pandas as pd # data processing, CSV file I/O (e.g. pd.read_csv)\n",
        "import seaborn as sns # data visualization\n",
        "import matplotlib.pyplot as plt # data visualization\n",
        "%matplotlib inline"
      ]
    },
    {
      "cell_type": "markdown",
      "metadata": {
        "id": "y6ffeW9QU0EG"
      },
      "source": [
        "### Loading dataset file and using pd.read_csv() to read file"
      ]
    },
    {
      "cell_type": "code",
      "execution_count": 107,
      "metadata": {
        "id": "jZX41A4qVRo1"
      },
      "outputs": [],
      "source": [
        "url = 'https://drive.google.com/file/d/1C9AxF9fcVzMw0Bgs0NaRrNML2WwX1Ehm/view?usp=sharing'\n",
        "file_id=url.split('/')[-2]\n",
        "dwn_url='https://drive.google.com/uc?id=' + file_id\n",
        "df = pd.read_csv(dwn_url)"
      ]
    },
    {
      "cell_type": "markdown",
      "metadata": {
        "id": "tJ-nzsfjVdXg"
      },
      "source": [
        "#### Retrieve first few rows of dataframe using pandas 'head' method."
      ]
    },
    {
      "cell_type": "code",
      "execution_count": 108,
      "metadata": {
        "colab": {
          "base_uri": "https://localhost:8080/",
          "height": 357
        },
        "id": "cK_nI0VoWSva",
        "outputId": "a683dfe7-9238-44ae-a3d5-6c5bf738edda"
      },
      "outputs": [
        {
          "output_type": "execute_result",
          "data": {
            "text/html": [
              "\n",
              "  <div id=\"df-fb70643e-dbff-4d68-bad1-1c7a51978e48\">\n",
              "    <div class=\"colab-df-container\">\n",
              "      <div>\n",
              "<style scoped>\n",
              "    .dataframe tbody tr th:only-of-type {\n",
              "        vertical-align: middle;\n",
              "    }\n",
              "\n",
              "    .dataframe tbody tr th {\n",
              "        vertical-align: top;\n",
              "    }\n",
              "\n",
              "    .dataframe thead th {\n",
              "        text-align: right;\n",
              "    }\n",
              "</style>\n",
              "<table border=\"1\" class=\"dataframe\">\n",
              "  <thead>\n",
              "    <tr style=\"text-align: right;\">\n",
              "      <th></th>\n",
              "      <th>hotel</th>\n",
              "      <th>is_canceled</th>\n",
              "      <th>lead_time</th>\n",
              "      <th>arrival_date_year</th>\n",
              "      <th>arrival_date_month</th>\n",
              "      <th>arrival_date_week_number</th>\n",
              "      <th>arrival_date_day_of_month</th>\n",
              "      <th>stays_in_weekend_nights</th>\n",
              "      <th>stays_in_week_nights</th>\n",
              "      <th>adults</th>\n",
              "      <th>children</th>\n",
              "      <th>babies</th>\n",
              "      <th>meal</th>\n",
              "      <th>country</th>\n",
              "      <th>market_segment</th>\n",
              "      <th>distribution_channel</th>\n",
              "      <th>is_repeated_guest</th>\n",
              "      <th>previous_cancellations</th>\n",
              "      <th>previous_bookings_not_canceled</th>\n",
              "      <th>reserved_room_type</th>\n",
              "      <th>assigned_room_type</th>\n",
              "      <th>booking_changes</th>\n",
              "      <th>deposit_type</th>\n",
              "      <th>agent</th>\n",
              "      <th>company</th>\n",
              "      <th>days_in_waiting_list</th>\n",
              "      <th>customer_type</th>\n",
              "      <th>adr</th>\n",
              "      <th>required_car_parking_spaces</th>\n",
              "      <th>total_of_special_requests</th>\n",
              "      <th>reservation_status</th>\n",
              "      <th>reservation_status_date</th>\n",
              "    </tr>\n",
              "  </thead>\n",
              "  <tbody>\n",
              "    <tr>\n",
              "      <th>0</th>\n",
              "      <td>Resort Hotel</td>\n",
              "      <td>0</td>\n",
              "      <td>342</td>\n",
              "      <td>2015</td>\n",
              "      <td>July</td>\n",
              "      <td>27</td>\n",
              "      <td>1</td>\n",
              "      <td>0</td>\n",
              "      <td>0</td>\n",
              "      <td>2</td>\n",
              "      <td>0.0</td>\n",
              "      <td>0</td>\n",
              "      <td>BB</td>\n",
              "      <td>PRT</td>\n",
              "      <td>Direct</td>\n",
              "      <td>Direct</td>\n",
              "      <td>0</td>\n",
              "      <td>0</td>\n",
              "      <td>0</td>\n",
              "      <td>C</td>\n",
              "      <td>C</td>\n",
              "      <td>3</td>\n",
              "      <td>No Deposit</td>\n",
              "      <td>NaN</td>\n",
              "      <td>NaN</td>\n",
              "      <td>0</td>\n",
              "      <td>Transient</td>\n",
              "      <td>0.0</td>\n",
              "      <td>0</td>\n",
              "      <td>0</td>\n",
              "      <td>Check-Out</td>\n",
              "      <td>2015-07-01</td>\n",
              "    </tr>\n",
              "    <tr>\n",
              "      <th>1</th>\n",
              "      <td>Resort Hotel</td>\n",
              "      <td>0</td>\n",
              "      <td>737</td>\n",
              "      <td>2015</td>\n",
              "      <td>July</td>\n",
              "      <td>27</td>\n",
              "      <td>1</td>\n",
              "      <td>0</td>\n",
              "      <td>0</td>\n",
              "      <td>2</td>\n",
              "      <td>0.0</td>\n",
              "      <td>0</td>\n",
              "      <td>BB</td>\n",
              "      <td>PRT</td>\n",
              "      <td>Direct</td>\n",
              "      <td>Direct</td>\n",
              "      <td>0</td>\n",
              "      <td>0</td>\n",
              "      <td>0</td>\n",
              "      <td>C</td>\n",
              "      <td>C</td>\n",
              "      <td>4</td>\n",
              "      <td>No Deposit</td>\n",
              "      <td>NaN</td>\n",
              "      <td>NaN</td>\n",
              "      <td>0</td>\n",
              "      <td>Transient</td>\n",
              "      <td>0.0</td>\n",
              "      <td>0</td>\n",
              "      <td>0</td>\n",
              "      <td>Check-Out</td>\n",
              "      <td>2015-07-01</td>\n",
              "    </tr>\n",
              "    <tr>\n",
              "      <th>2</th>\n",
              "      <td>Resort Hotel</td>\n",
              "      <td>0</td>\n",
              "      <td>7</td>\n",
              "      <td>2015</td>\n",
              "      <td>July</td>\n",
              "      <td>27</td>\n",
              "      <td>1</td>\n",
              "      <td>0</td>\n",
              "      <td>1</td>\n",
              "      <td>1</td>\n",
              "      <td>0.0</td>\n",
              "      <td>0</td>\n",
              "      <td>BB</td>\n",
              "      <td>GBR</td>\n",
              "      <td>Direct</td>\n",
              "      <td>Direct</td>\n",
              "      <td>0</td>\n",
              "      <td>0</td>\n",
              "      <td>0</td>\n",
              "      <td>A</td>\n",
              "      <td>C</td>\n",
              "      <td>0</td>\n",
              "      <td>No Deposit</td>\n",
              "      <td>NaN</td>\n",
              "      <td>NaN</td>\n",
              "      <td>0</td>\n",
              "      <td>Transient</td>\n",
              "      <td>75.0</td>\n",
              "      <td>0</td>\n",
              "      <td>0</td>\n",
              "      <td>Check-Out</td>\n",
              "      <td>2015-07-02</td>\n",
              "    </tr>\n",
              "    <tr>\n",
              "      <th>3</th>\n",
              "      <td>Resort Hotel</td>\n",
              "      <td>0</td>\n",
              "      <td>13</td>\n",
              "      <td>2015</td>\n",
              "      <td>July</td>\n",
              "      <td>27</td>\n",
              "      <td>1</td>\n",
              "      <td>0</td>\n",
              "      <td>1</td>\n",
              "      <td>1</td>\n",
              "      <td>0.0</td>\n",
              "      <td>0</td>\n",
              "      <td>BB</td>\n",
              "      <td>GBR</td>\n",
              "      <td>Corporate</td>\n",
              "      <td>Corporate</td>\n",
              "      <td>0</td>\n",
              "      <td>0</td>\n",
              "      <td>0</td>\n",
              "      <td>A</td>\n",
              "      <td>A</td>\n",
              "      <td>0</td>\n",
              "      <td>No Deposit</td>\n",
              "      <td>304.0</td>\n",
              "      <td>NaN</td>\n",
              "      <td>0</td>\n",
              "      <td>Transient</td>\n",
              "      <td>75.0</td>\n",
              "      <td>0</td>\n",
              "      <td>0</td>\n",
              "      <td>Check-Out</td>\n",
              "      <td>2015-07-02</td>\n",
              "    </tr>\n",
              "    <tr>\n",
              "      <th>4</th>\n",
              "      <td>Resort Hotel</td>\n",
              "      <td>0</td>\n",
              "      <td>14</td>\n",
              "      <td>2015</td>\n",
              "      <td>July</td>\n",
              "      <td>27</td>\n",
              "      <td>1</td>\n",
              "      <td>0</td>\n",
              "      <td>2</td>\n",
              "      <td>2</td>\n",
              "      <td>0.0</td>\n",
              "      <td>0</td>\n",
              "      <td>BB</td>\n",
              "      <td>GBR</td>\n",
              "      <td>Online TA</td>\n",
              "      <td>TA/TO</td>\n",
              "      <td>0</td>\n",
              "      <td>0</td>\n",
              "      <td>0</td>\n",
              "      <td>A</td>\n",
              "      <td>A</td>\n",
              "      <td>0</td>\n",
              "      <td>No Deposit</td>\n",
              "      <td>240.0</td>\n",
              "      <td>NaN</td>\n",
              "      <td>0</td>\n",
              "      <td>Transient</td>\n",
              "      <td>98.0</td>\n",
              "      <td>0</td>\n",
              "      <td>1</td>\n",
              "      <td>Check-Out</td>\n",
              "      <td>2015-07-03</td>\n",
              "    </tr>\n",
              "  </tbody>\n",
              "</table>\n",
              "</div>\n",
              "      <button class=\"colab-df-convert\" onclick=\"convertToInteractive('df-fb70643e-dbff-4d68-bad1-1c7a51978e48')\"\n",
              "              title=\"Convert this dataframe to an interactive table.\"\n",
              "              style=\"display:none;\">\n",
              "        \n",
              "  <svg xmlns=\"http://www.w3.org/2000/svg\" height=\"24px\"viewBox=\"0 0 24 24\"\n",
              "       width=\"24px\">\n",
              "    <path d=\"M0 0h24v24H0V0z\" fill=\"none\"/>\n",
              "    <path d=\"M18.56 5.44l.94 2.06.94-2.06 2.06-.94-2.06-.94-.94-2.06-.94 2.06-2.06.94zm-11 1L8.5 8.5l.94-2.06 2.06-.94-2.06-.94L8.5 2.5l-.94 2.06-2.06.94zm10 10l.94 2.06.94-2.06 2.06-.94-2.06-.94-.94-2.06-.94 2.06-2.06.94z\"/><path d=\"M17.41 7.96l-1.37-1.37c-.4-.4-.92-.59-1.43-.59-.52 0-1.04.2-1.43.59L10.3 9.45l-7.72 7.72c-.78.78-.78 2.05 0 2.83L4 21.41c.39.39.9.59 1.41.59.51 0 1.02-.2 1.41-.59l7.78-7.78 2.81-2.81c.8-.78.8-2.07 0-2.86zM5.41 20L4 18.59l7.72-7.72 1.47 1.35L5.41 20z\"/>\n",
              "  </svg>\n",
              "      </button>\n",
              "      \n",
              "  <style>\n",
              "    .colab-df-container {\n",
              "      display:flex;\n",
              "      flex-wrap:wrap;\n",
              "      gap: 12px;\n",
              "    }\n",
              "\n",
              "    .colab-df-convert {\n",
              "      background-color: #E8F0FE;\n",
              "      border: none;\n",
              "      border-radius: 50%;\n",
              "      cursor: pointer;\n",
              "      display: none;\n",
              "      fill: #1967D2;\n",
              "      height: 32px;\n",
              "      padding: 0 0 0 0;\n",
              "      width: 32px;\n",
              "    }\n",
              "\n",
              "    .colab-df-convert:hover {\n",
              "      background-color: #E2EBFA;\n",
              "      box-shadow: 0px 1px 2px rgba(60, 64, 67, 0.3), 0px 1px 3px 1px rgba(60, 64, 67, 0.15);\n",
              "      fill: #174EA6;\n",
              "    }\n",
              "\n",
              "    [theme=dark] .colab-df-convert {\n",
              "      background-color: #3B4455;\n",
              "      fill: #D2E3FC;\n",
              "    }\n",
              "\n",
              "    [theme=dark] .colab-df-convert:hover {\n",
              "      background-color: #434B5C;\n",
              "      box-shadow: 0px 1px 3px 1px rgba(0, 0, 0, 0.15);\n",
              "      filter: drop-shadow(0px 1px 2px rgba(0, 0, 0, 0.3));\n",
              "      fill: #FFFFFF;\n",
              "    }\n",
              "  </style>\n",
              "\n",
              "      <script>\n",
              "        const buttonEl =\n",
              "          document.querySelector('#df-fb70643e-dbff-4d68-bad1-1c7a51978e48 button.colab-df-convert');\n",
              "        buttonEl.style.display =\n",
              "          google.colab.kernel.accessAllowed ? 'block' : 'none';\n",
              "\n",
              "        async function convertToInteractive(key) {\n",
              "          const element = document.querySelector('#df-fb70643e-dbff-4d68-bad1-1c7a51978e48');\n",
              "          const dataTable =\n",
              "            await google.colab.kernel.invokeFunction('convertToInteractive',\n",
              "                                                     [key], {});\n",
              "          if (!dataTable) return;\n",
              "\n",
              "          const docLinkHtml = 'Like what you see? Visit the ' +\n",
              "            '<a target=\"_blank\" href=https://colab.research.google.com/notebooks/data_table.ipynb>data table notebook</a>'\n",
              "            + ' to learn more about interactive tables.';\n",
              "          element.innerHTML = '';\n",
              "          dataTable['output_type'] = 'display_data';\n",
              "          await google.colab.output.renderOutput(dataTable, element);\n",
              "          const docLink = document.createElement('div');\n",
              "          docLink.innerHTML = docLinkHtml;\n",
              "          element.appendChild(docLink);\n",
              "        }\n",
              "      </script>\n",
              "    </div>\n",
              "  </div>\n",
              "  "
            ],
            "text/plain": [
              "          hotel  is_canceled  ...  reservation_status  reservation_status_date\n",
              "0  Resort Hotel            0  ...           Check-Out               2015-07-01\n",
              "1  Resort Hotel            0  ...           Check-Out               2015-07-01\n",
              "2  Resort Hotel            0  ...           Check-Out               2015-07-02\n",
              "3  Resort Hotel            0  ...           Check-Out               2015-07-02\n",
              "4  Resort Hotel            0  ...           Check-Out               2015-07-03\n",
              "\n",
              "[5 rows x 32 columns]"
            ]
          },
          "metadata": {},
          "execution_count": 108
        }
      ],
      "source": [
        "df.head()"
      ]
    },
    {
      "cell_type": "markdown",
      "metadata": {
        "id": "HAE-FI8xWfn0"
      },
      "source": [
        "### Use pandas info() method that prints information about the DataFrame. The information contains the number of columns, column labels, column data types, memory usage, range index, and the number of cells in each column (non-null values).\n",
        "\n",
        "#### We can see that shape of dataframe is (11930,32)"
      ]
    },
    {
      "cell_type": "code",
      "execution_count": 109,
      "metadata": {
        "colab": {
          "base_uri": "https://localhost:8080/"
        },
        "id": "EaCtx1KqWxoM",
        "outputId": "49269cae-cc31-4192-c74b-458df957710d"
      },
      "outputs": [
        {
          "output_type": "stream",
          "name": "stdout",
          "text": [
            "<class 'pandas.core.frame.DataFrame'>\n",
            "RangeIndex: 119390 entries, 0 to 119389\n",
            "Data columns (total 32 columns):\n",
            " #   Column                          Non-Null Count   Dtype  \n",
            "---  ------                          --------------   -----  \n",
            " 0   hotel                           119390 non-null  object \n",
            " 1   is_canceled                     119390 non-null  int64  \n",
            " 2   lead_time                       119390 non-null  int64  \n",
            " 3   arrival_date_year               119390 non-null  int64  \n",
            " 4   arrival_date_month              119390 non-null  object \n",
            " 5   arrival_date_week_number        119390 non-null  int64  \n",
            " 6   arrival_date_day_of_month       119390 non-null  int64  \n",
            " 7   stays_in_weekend_nights         119390 non-null  int64  \n",
            " 8   stays_in_week_nights            119390 non-null  int64  \n",
            " 9   adults                          119390 non-null  int64  \n",
            " 10  children                        119386 non-null  float64\n",
            " 11  babies                          119390 non-null  int64  \n",
            " 12  meal                            119390 non-null  object \n",
            " 13  country                         118902 non-null  object \n",
            " 14  market_segment                  119390 non-null  object \n",
            " 15  distribution_channel            119390 non-null  object \n",
            " 16  is_repeated_guest               119390 non-null  int64  \n",
            " 17  previous_cancellations          119390 non-null  int64  \n",
            " 18  previous_bookings_not_canceled  119390 non-null  int64  \n",
            " 19  reserved_room_type              119390 non-null  object \n",
            " 20  assigned_room_type              119390 non-null  object \n",
            " 21  booking_changes                 119390 non-null  int64  \n",
            " 22  deposit_type                    119390 non-null  object \n",
            " 23  agent                           103050 non-null  float64\n",
            " 24  company                         6797 non-null    float64\n",
            " 25  days_in_waiting_list            119390 non-null  int64  \n",
            " 26  customer_type                   119390 non-null  object \n",
            " 27  adr                             119390 non-null  float64\n",
            " 28  required_car_parking_spaces     119390 non-null  int64  \n",
            " 29  total_of_special_requests       119390 non-null  int64  \n",
            " 30  reservation_status              119390 non-null  object \n",
            " 31  reservation_status_date         119390 non-null  object \n",
            "dtypes: float64(4), int64(16), object(12)\n",
            "memory usage: 29.1+ MB\n"
          ]
        }
      ],
      "source": [
        "df.info()"
      ]
    },
    {
      "cell_type": "markdown",
      "metadata": {
        "id": "XrdkoWHAX4wJ"
      },
      "source": [
        "###Check if any missing value(NULL,NaN,NA) is present for any column using  isna() function.\n",
        "\n",
        "#### We can see data is missing for country, agent, comapany.\n"
      ]
    },
    {
      "cell_type": "code",
      "execution_count": 110,
      "metadata": {
        "colab": {
          "base_uri": "https://localhost:8080/"
        },
        "id": "wqnAZ74cYNyw",
        "outputId": "728c3451-1dd5-4442-a4d9-cf29abff5175"
      },
      "outputs": [
        {
          "output_type": "execute_result",
          "data": {
            "text/plain": [
              "hotel                                  0\n",
              "is_canceled                            0\n",
              "lead_time                              0\n",
              "arrival_date_year                      0\n",
              "arrival_date_month                     0\n",
              "arrival_date_week_number               0\n",
              "arrival_date_day_of_month              0\n",
              "stays_in_weekend_nights                0\n",
              "stays_in_week_nights                   0\n",
              "adults                                 0\n",
              "children                               4\n",
              "babies                                 0\n",
              "meal                                   0\n",
              "country                              488\n",
              "market_segment                         0\n",
              "distribution_channel                   0\n",
              "is_repeated_guest                      0\n",
              "previous_cancellations                 0\n",
              "previous_bookings_not_canceled         0\n",
              "reserved_room_type                     0\n",
              "assigned_room_type                     0\n",
              "booking_changes                        0\n",
              "deposit_type                           0\n",
              "agent                              16340\n",
              "company                           112593\n",
              "days_in_waiting_list                   0\n",
              "customer_type                          0\n",
              "adr                                    0\n",
              "required_car_parking_spaces            0\n",
              "total_of_special_requests              0\n",
              "reservation_status                     0\n",
              "reservation_status_date                0\n",
              "dtype: int64"
            ]
          },
          "metadata": {},
          "execution_count": 110
        }
      ],
      "source": [
        "df.isna().sum(axis = 0)"
      ]
    },
    {
      "cell_type": "markdown",
      "metadata": {
        "id": "K85nmyT7Yvk3"
      },
      "source": [
        "#### As missing values are very large for 'agent' and 'company' we will delete both columns using drop() method and for 'country' as missing values are very less we will drop missing values using dropna() method.\n",
        "\n",
        "#### Print updated dataframe to check if all missing values are 0."
      ]
    },
    {
      "cell_type": "code",
      "execution_count": 111,
      "metadata": {
        "colab": {
          "base_uri": "https://localhost:8080/"
        },
        "id": "9ICP6vzQZZsG",
        "outputId": "810c9c47-3cd6-46c5-c56c-fd53ee3bb119"
      },
      "outputs": [
        {
          "output_type": "stream",
          "name": "stdout",
          "text": [
            "hotel                             0\n",
            "is_canceled                       0\n",
            "lead_time                         0\n",
            "arrival_date_year                 0\n",
            "arrival_date_month                0\n",
            "arrival_date_week_number          0\n",
            "arrival_date_day_of_month         0\n",
            "stays_in_weekend_nights           0\n",
            "stays_in_week_nights              0\n",
            "adults                            0\n",
            "children                          0\n",
            "babies                            0\n",
            "meal                              0\n",
            "country                           0\n",
            "market_segment                    0\n",
            "distribution_channel              0\n",
            "is_repeated_guest                 0\n",
            "previous_cancellations            0\n",
            "previous_bookings_not_canceled    0\n",
            "reserved_room_type                0\n",
            "assigned_room_type                0\n",
            "booking_changes                   0\n",
            "deposit_type                      0\n",
            "days_in_waiting_list              0\n",
            "customer_type                     0\n",
            "adr                               0\n",
            "required_car_parking_spaces       0\n",
            "total_of_special_requests         0\n",
            "reservation_status                0\n",
            "reservation_status_date           0\n",
            "dtype: int64\n"
          ]
        }
      ],
      "source": [
        "df= df.drop(columns=['agent', 'company'])\n",
        "\n",
        "df = df.dropna()\n",
        "\n",
        "print(df.isna().sum(axis=0))\n"
      ]
    },
    {
      "cell_type": "markdown",
      "metadata": {
        "id": "6Miv_Vj2blfu"
      },
      "source": [
        "#### Generate descriptive statistics using decribe() method, descriptive statistics summarize the mean, percentiles, standard deviation, max and min values excluding NaN values."
      ]
    },
    {
      "cell_type": "code",
      "execution_count": 112,
      "metadata": {
        "colab": {
          "base_uri": "https://localhost:8080/",
          "height": 364
        },
        "id": "6dwYiRljb10h",
        "outputId": "7a3af60b-c4c5-40b2-ddc8-75a412bb626e"
      },
      "outputs": [
        {
          "output_type": "execute_result",
          "data": {
            "text/html": [
              "\n",
              "  <div id=\"df-68e6fb24-2528-4b28-b8a0-d69c5bcc198c\">\n",
              "    <div class=\"colab-df-container\">\n",
              "      <div>\n",
              "<style scoped>\n",
              "    .dataframe tbody tr th:only-of-type {\n",
              "        vertical-align: middle;\n",
              "    }\n",
              "\n",
              "    .dataframe tbody tr th {\n",
              "        vertical-align: top;\n",
              "    }\n",
              "\n",
              "    .dataframe thead th {\n",
              "        text-align: right;\n",
              "    }\n",
              "</style>\n",
              "<table border=\"1\" class=\"dataframe\">\n",
              "  <thead>\n",
              "    <tr style=\"text-align: right;\">\n",
              "      <th></th>\n",
              "      <th>is_canceled</th>\n",
              "      <th>lead_time</th>\n",
              "      <th>arrival_date_year</th>\n",
              "      <th>arrival_date_week_number</th>\n",
              "      <th>arrival_date_day_of_month</th>\n",
              "      <th>stays_in_weekend_nights</th>\n",
              "      <th>stays_in_week_nights</th>\n",
              "      <th>adults</th>\n",
              "      <th>children</th>\n",
              "      <th>babies</th>\n",
              "      <th>is_repeated_guest</th>\n",
              "      <th>previous_cancellations</th>\n",
              "      <th>previous_bookings_not_canceled</th>\n",
              "      <th>booking_changes</th>\n",
              "      <th>days_in_waiting_list</th>\n",
              "      <th>adr</th>\n",
              "      <th>required_car_parking_spaces</th>\n",
              "      <th>total_of_special_requests</th>\n",
              "    </tr>\n",
              "  </thead>\n",
              "  <tbody>\n",
              "    <tr>\n",
              "      <th>count</th>\n",
              "      <td>118898.000000</td>\n",
              "      <td>118898.000000</td>\n",
              "      <td>118898.000000</td>\n",
              "      <td>118898.000000</td>\n",
              "      <td>118898.000000</td>\n",
              "      <td>118898.000000</td>\n",
              "      <td>118898.000000</td>\n",
              "      <td>118898.000000</td>\n",
              "      <td>118898.000000</td>\n",
              "      <td>118898.000000</td>\n",
              "      <td>118898.000000</td>\n",
              "      <td>118898.000000</td>\n",
              "      <td>118898.000000</td>\n",
              "      <td>118898.000000</td>\n",
              "      <td>118898.000000</td>\n",
              "      <td>118898.000000</td>\n",
              "      <td>118898.000000</td>\n",
              "      <td>118898.000000</td>\n",
              "    </tr>\n",
              "    <tr>\n",
              "      <th>mean</th>\n",
              "      <td>0.371352</td>\n",
              "      <td>104.311435</td>\n",
              "      <td>2016.157656</td>\n",
              "      <td>27.166555</td>\n",
              "      <td>15.800880</td>\n",
              "      <td>0.928897</td>\n",
              "      <td>2.502145</td>\n",
              "      <td>1.858391</td>\n",
              "      <td>0.104207</td>\n",
              "      <td>0.007948</td>\n",
              "      <td>0.032011</td>\n",
              "      <td>0.087142</td>\n",
              "      <td>0.131634</td>\n",
              "      <td>0.221181</td>\n",
              "      <td>2.330754</td>\n",
              "      <td>102.003243</td>\n",
              "      <td>0.061885</td>\n",
              "      <td>0.571683</td>\n",
              "    </tr>\n",
              "    <tr>\n",
              "      <th>std</th>\n",
              "      <td>0.483168</td>\n",
              "      <td>106.903309</td>\n",
              "      <td>0.707459</td>\n",
              "      <td>13.589971</td>\n",
              "      <td>8.780324</td>\n",
              "      <td>0.996216</td>\n",
              "      <td>1.900168</td>\n",
              "      <td>0.578576</td>\n",
              "      <td>0.399172</td>\n",
              "      <td>0.097380</td>\n",
              "      <td>0.176029</td>\n",
              "      <td>0.845869</td>\n",
              "      <td>1.484672</td>\n",
              "      <td>0.652785</td>\n",
              "      <td>17.630452</td>\n",
              "      <td>50.485862</td>\n",
              "      <td>0.244172</td>\n",
              "      <td>0.792678</td>\n",
              "    </tr>\n",
              "    <tr>\n",
              "      <th>min</th>\n",
              "      <td>0.000000</td>\n",
              "      <td>0.000000</td>\n",
              "      <td>2015.000000</td>\n",
              "      <td>1.000000</td>\n",
              "      <td>1.000000</td>\n",
              "      <td>0.000000</td>\n",
              "      <td>0.000000</td>\n",
              "      <td>0.000000</td>\n",
              "      <td>0.000000</td>\n",
              "      <td>0.000000</td>\n",
              "      <td>0.000000</td>\n",
              "      <td>0.000000</td>\n",
              "      <td>0.000000</td>\n",
              "      <td>0.000000</td>\n",
              "      <td>0.000000</td>\n",
              "      <td>-6.380000</td>\n",
              "      <td>0.000000</td>\n",
              "      <td>0.000000</td>\n",
              "    </tr>\n",
              "    <tr>\n",
              "      <th>25%</th>\n",
              "      <td>0.000000</td>\n",
              "      <td>18.000000</td>\n",
              "      <td>2016.000000</td>\n",
              "      <td>16.000000</td>\n",
              "      <td>8.000000</td>\n",
              "      <td>0.000000</td>\n",
              "      <td>1.000000</td>\n",
              "      <td>2.000000</td>\n",
              "      <td>0.000000</td>\n",
              "      <td>0.000000</td>\n",
              "      <td>0.000000</td>\n",
              "      <td>0.000000</td>\n",
              "      <td>0.000000</td>\n",
              "      <td>0.000000</td>\n",
              "      <td>0.000000</td>\n",
              "      <td>70.000000</td>\n",
              "      <td>0.000000</td>\n",
              "      <td>0.000000</td>\n",
              "    </tr>\n",
              "    <tr>\n",
              "      <th>50%</th>\n",
              "      <td>0.000000</td>\n",
              "      <td>69.000000</td>\n",
              "      <td>2016.000000</td>\n",
              "      <td>28.000000</td>\n",
              "      <td>16.000000</td>\n",
              "      <td>1.000000</td>\n",
              "      <td>2.000000</td>\n",
              "      <td>2.000000</td>\n",
              "      <td>0.000000</td>\n",
              "      <td>0.000000</td>\n",
              "      <td>0.000000</td>\n",
              "      <td>0.000000</td>\n",
              "      <td>0.000000</td>\n",
              "      <td>0.000000</td>\n",
              "      <td>0.000000</td>\n",
              "      <td>95.000000</td>\n",
              "      <td>0.000000</td>\n",
              "      <td>0.000000</td>\n",
              "    </tr>\n",
              "    <tr>\n",
              "      <th>75%</th>\n",
              "      <td>1.000000</td>\n",
              "      <td>161.000000</td>\n",
              "      <td>2017.000000</td>\n",
              "      <td>38.000000</td>\n",
              "      <td>23.000000</td>\n",
              "      <td>2.000000</td>\n",
              "      <td>3.000000</td>\n",
              "      <td>2.000000</td>\n",
              "      <td>0.000000</td>\n",
              "      <td>0.000000</td>\n",
              "      <td>0.000000</td>\n",
              "      <td>0.000000</td>\n",
              "      <td>0.000000</td>\n",
              "      <td>0.000000</td>\n",
              "      <td>0.000000</td>\n",
              "      <td>126.000000</td>\n",
              "      <td>0.000000</td>\n",
              "      <td>1.000000</td>\n",
              "    </tr>\n",
              "    <tr>\n",
              "      <th>max</th>\n",
              "      <td>1.000000</td>\n",
              "      <td>737.000000</td>\n",
              "      <td>2017.000000</td>\n",
              "      <td>53.000000</td>\n",
              "      <td>31.000000</td>\n",
              "      <td>16.000000</td>\n",
              "      <td>41.000000</td>\n",
              "      <td>55.000000</td>\n",
              "      <td>10.000000</td>\n",
              "      <td>10.000000</td>\n",
              "      <td>1.000000</td>\n",
              "      <td>26.000000</td>\n",
              "      <td>72.000000</td>\n",
              "      <td>21.000000</td>\n",
              "      <td>391.000000</td>\n",
              "      <td>5400.000000</td>\n",
              "      <td>8.000000</td>\n",
              "      <td>5.000000</td>\n",
              "    </tr>\n",
              "  </tbody>\n",
              "</table>\n",
              "</div>\n",
              "      <button class=\"colab-df-convert\" onclick=\"convertToInteractive('df-68e6fb24-2528-4b28-b8a0-d69c5bcc198c')\"\n",
              "              title=\"Convert this dataframe to an interactive table.\"\n",
              "              style=\"display:none;\">\n",
              "        \n",
              "  <svg xmlns=\"http://www.w3.org/2000/svg\" height=\"24px\"viewBox=\"0 0 24 24\"\n",
              "       width=\"24px\">\n",
              "    <path d=\"M0 0h24v24H0V0z\" fill=\"none\"/>\n",
              "    <path d=\"M18.56 5.44l.94 2.06.94-2.06 2.06-.94-2.06-.94-.94-2.06-.94 2.06-2.06.94zm-11 1L8.5 8.5l.94-2.06 2.06-.94-2.06-.94L8.5 2.5l-.94 2.06-2.06.94zm10 10l.94 2.06.94-2.06 2.06-.94-2.06-.94-.94-2.06-.94 2.06-2.06.94z\"/><path d=\"M17.41 7.96l-1.37-1.37c-.4-.4-.92-.59-1.43-.59-.52 0-1.04.2-1.43.59L10.3 9.45l-7.72 7.72c-.78.78-.78 2.05 0 2.83L4 21.41c.39.39.9.59 1.41.59.51 0 1.02-.2 1.41-.59l7.78-7.78 2.81-2.81c.8-.78.8-2.07 0-2.86zM5.41 20L4 18.59l7.72-7.72 1.47 1.35L5.41 20z\"/>\n",
              "  </svg>\n",
              "      </button>\n",
              "      \n",
              "  <style>\n",
              "    .colab-df-container {\n",
              "      display:flex;\n",
              "      flex-wrap:wrap;\n",
              "      gap: 12px;\n",
              "    }\n",
              "\n",
              "    .colab-df-convert {\n",
              "      background-color: #E8F0FE;\n",
              "      border: none;\n",
              "      border-radius: 50%;\n",
              "      cursor: pointer;\n",
              "      display: none;\n",
              "      fill: #1967D2;\n",
              "      height: 32px;\n",
              "      padding: 0 0 0 0;\n",
              "      width: 32px;\n",
              "    }\n",
              "\n",
              "    .colab-df-convert:hover {\n",
              "      background-color: #E2EBFA;\n",
              "      box-shadow: 0px 1px 2px rgba(60, 64, 67, 0.3), 0px 1px 3px 1px rgba(60, 64, 67, 0.15);\n",
              "      fill: #174EA6;\n",
              "    }\n",
              "\n",
              "    [theme=dark] .colab-df-convert {\n",
              "      background-color: #3B4455;\n",
              "      fill: #D2E3FC;\n",
              "    }\n",
              "\n",
              "    [theme=dark] .colab-df-convert:hover {\n",
              "      background-color: #434B5C;\n",
              "      box-shadow: 0px 1px 3px 1px rgba(0, 0, 0, 0.15);\n",
              "      filter: drop-shadow(0px 1px 2px rgba(0, 0, 0, 0.3));\n",
              "      fill: #FFFFFF;\n",
              "    }\n",
              "  </style>\n",
              "\n",
              "      <script>\n",
              "        const buttonEl =\n",
              "          document.querySelector('#df-68e6fb24-2528-4b28-b8a0-d69c5bcc198c button.colab-df-convert');\n",
              "        buttonEl.style.display =\n",
              "          google.colab.kernel.accessAllowed ? 'block' : 'none';\n",
              "\n",
              "        async function convertToInteractive(key) {\n",
              "          const element = document.querySelector('#df-68e6fb24-2528-4b28-b8a0-d69c5bcc198c');\n",
              "          const dataTable =\n",
              "            await google.colab.kernel.invokeFunction('convertToInteractive',\n",
              "                                                     [key], {});\n",
              "          if (!dataTable) return;\n",
              "\n",
              "          const docLinkHtml = 'Like what you see? Visit the ' +\n",
              "            '<a target=\"_blank\" href=https://colab.research.google.com/notebooks/data_table.ipynb>data table notebook</a>'\n",
              "            + ' to learn more about interactive tables.';\n",
              "          element.innerHTML = '';\n",
              "          dataTable['output_type'] = 'display_data';\n",
              "          await google.colab.output.renderOutput(dataTable, element);\n",
              "          const docLink = document.createElement('div');\n",
              "          docLink.innerHTML = docLinkHtml;\n",
              "          element.appendChild(docLink);\n",
              "        }\n",
              "      </script>\n",
              "    </div>\n",
              "  </div>\n",
              "  "
            ],
            "text/plain": [
              "         is_canceled  ...  total_of_special_requests\n",
              "count  118898.000000  ...              118898.000000\n",
              "mean        0.371352  ...                   0.571683\n",
              "std         0.483168  ...                   0.792678\n",
              "min         0.000000  ...                   0.000000\n",
              "25%         0.000000  ...                   0.000000\n",
              "50%         0.000000  ...                   0.000000\n",
              "75%         1.000000  ...                   1.000000\n",
              "max         1.000000  ...                   5.000000\n",
              "\n",
              "[8 rows x 18 columns]"
            ]
          },
          "metadata": {},
          "execution_count": 112
        }
      ],
      "source": [
        "df.describe()"
      ]
    },
    {
      "cell_type": "markdown",
      "metadata": {
        "id": "wa4yjui0ftCd"
      },
      "source": [
        "## Exploratory Data Analysis"
      ]
    },
    {
      "cell_type": "markdown",
      "metadata": {
        "id": "-s5PCIxUf32B"
      },
      "source": [
        "## 1) Hotel Type"
      ]
    },
    {
      "cell_type": "markdown",
      "metadata": {
        "id": "UZdm5F6Tgeq5"
      },
      "source": [
        "#### Use value_count() method to overview of hotel type where customers are staying.\n",
        "\n",
        "#### We can see that around 66% customers booked 'City Hotel' and 33% booked 'Resort Hotel'."
      ]
    },
    {
      "cell_type": "code",
      "execution_count": 113,
      "metadata": {
        "colab": {
          "base_uri": "https://localhost:8080/"
        },
        "id": "7WFZSfZbf2Wm",
        "outputId": "d38e23e8-e032-4a03-84ac-1c9c74708324"
      },
      "outputs": [
        {
          "output_type": "execute_result",
          "data": {
            "text/plain": [
              "City Hotel      0.666975\n",
              "Resort Hotel    0.333025\n",
              "Name: hotel, dtype: float64"
            ]
          },
          "metadata": {},
          "execution_count": 113
        }
      ],
      "source": [
        "df['hotel'].value_counts(normalize = True)"
      ]
    },
    {
      "cell_type": "markdown",
      "metadata": {
        "id": "Sgu9rtHvhRkc"
      },
      "source": [
        "### Visualizing Hotel Type using countplot.\n",
        "\n",
        "#### As we can see from the plot below, people are more interested in staying at city hotels instead of resort hotels, and there are approximately 50% fewer bookings at resort hotels as compared to city hotels.\n"
      ]
    },
    {
      "cell_type": "code",
      "execution_count": 114,
      "metadata": {
        "colab": {
          "base_uri": "https://localhost:8080/",
          "height": 318
        },
        "id": "zAC09R-_huy2",
        "outputId": "6fe624be-c582-4a61-cc60-0a670dd44414"
      },
      "outputs": [
        {
          "output_type": "display_data",
          "data": {
            "image/png": "[encoded data removed]",
            "text/plain": [
              "<Figure size 432x288 with 1 Axes>"
            ]
          },
          "metadata": {}
        }
      ],
      "source": [
        "sns.set_context('notebook')\n",
        "sns.set_style(\"white\")\n",
        "sns.set_palette('pastel')\n",
        "\n",
        "g = sns.countplot(x='hotel',data=df)\n",
        "\n",
        "g.set_xlabel('Hotel Types',fontsize = 15)\n",
        "g.set_ylabel('Count',fontsize = 15)\n",
        "g.set_title('Hotel Type Count Plot', fontsize = 15, y = 1.06)\n",
        "\n",
        "plt.show()"
      ]
    },
    {
      "cell_type": "markdown",
      "metadata": {
        "id": "7y4bGjMWivas"
      },
      "source": [
        "## 2) Canceled Booking"
      ]
    },
    {
      "cell_type": "markdown",
      "metadata": {
        "id": "0d6BYs4wjO6F"
      },
      "source": [
        "#### Use value_count() method to overview of hotel cancellations\n",
        "\n",
        "#### We can see that around 37% customers canceled their booking."
      ]
    },
    {
      "cell_type": "code",
      "execution_count": 115,
      "metadata": {
        "colab": {
          "base_uri": "https://localhost:8080/"
        },
        "id": "FvwG7sRtj1w5",
        "outputId": "ae178480-d494-4bef-c386-3bd48e566f4f"
      },
      "outputs": [
        {
          "output_type": "execute_result",
          "data": {
            "text/plain": [
              "0    0.628648\n",
              "1    0.371352\n",
              "Name: is_canceled, dtype: float64"
            ]
          },
          "metadata": {},
          "execution_count": 115
        }
      ],
      "source": [
        "df['is_canceled'].value_counts(normalize = True)"
      ]
    },
    {
      "cell_type": "markdown",
      "metadata": {
        "id": "PTB-8GCSkQki"
      },
      "source": [
        "### Visualizing Cancelation using countplot.\n",
        "\n",
        "####As we can see from the count plot below that majority of the bookings were not cancelled, but still there is little amount of bookings cancelled.\n"
      ]
    },
    {
      "cell_type": "code",
      "execution_count": 116,
      "metadata": {
        "colab": {
          "base_uri": "https://localhost:8080/",
          "height": 373
        },
        "id": "Y7cVUF61jP99",
        "outputId": "9f1f4483-fa4d-4194-99dc-241374fd7f03"
      },
      "outputs": [
        {
          "output_type": "stream",
          "name": "stderr",
          "text": [
            "/usr/local/lib/python3.7/dist-packages/seaborn/_decorators.py:43: FutureWarning: Pass the following variable as a keyword arg: x. From version 0.12, the only valid positional argument will be `data`, and passing other arguments without an explicit keyword will result in an error or misinterpretation.\n",
            "  FutureWarning\n"
          ]
        },
        {
          "output_type": "display_data",
          "data": {
            "image/png": "[encoded data removed]",
            "text/plain": [
              "<Figure size 432x288 with 1 Axes>"
            ]
          },
          "metadata": {}
        }
      ],
      "source": [
        "sns.set_context('notebook')\n",
        "sns.set_style(\"white\")\n",
        "sns.set_palette('pastel')\n",
        "\n",
        "df['is_canceled'] = df.is_canceled.replace([1,0], ['Canceled', 'Not Canceled'])\n",
        "booking_canceled_data = df['is_canceled']\n",
        "g = sns.countplot(booking_canceled_data)\n",
        "\n",
        "g.set_xlabel('Booking Canceled',fontsize = 15)\n",
        "g.set_ylabel('Count',fontsize = 15)\n",
        "g.set_title('Booking Canceled Count Plot', fontsize = 15, y = 1.06)\n",
        "\n",
        "plt.show()"
      ]
    },
    {
      "cell_type": "markdown",
      "metadata": {
        "id": "PA327FLmqnBb"
      },
      "source": [
        "# 4) Arrival Date Month"
      ]
    },
    {
      "cell_type": "markdown",
      "metadata": {
        "id": "4ylUo3Miq1mq"
      },
      "source": [
        "#### Use value_count() method to overview of customer arrival by Month.\n",
        "\n",
        "#### We can see that around 11% customers preffered August and only 4% customers preffered January."
      ]
    },
    {
      "cell_type": "code",
      "source": [
        "df['arrival_date_month'].value_counts(normalize = True)"
      ],
      "metadata": {
        "colab": {
          "base_uri": "https://localhost:8080/"
        },
        "id": "yanTLeW8ESxL",
        "outputId": "ce479662-ba00-4bbc-bee3-3986bf0749d0"
      },
      "execution_count": 117,
      "outputs": [
        {
          "output_type": "execute_result",
          "data": {
            "text/plain": [
              "August       0.116503\n",
              "July         0.106209\n",
              "May          0.099068\n",
              "October      0.093315\n",
              "April        0.092895\n",
              "June         0.091902\n",
              "September    0.088033\n",
              "March        0.081911\n",
              "February     0.067385\n",
              "November     0.056788\n",
              "December     0.056586\n",
              "January      0.049404\n",
              "Name: arrival_date_month, dtype: float64"
            ]
          },
          "metadata": {},
          "execution_count": 117
        }
      ]
    },
    {
      "cell_type": "markdown",
      "source": [
        "### Visualizing Arrival Date Month using countplot.\n",
        " \n",
        "### As we can see from below plot which months are the most popular among guests visiting hotels. Highest bookings recorded in months August, July, May and October. Least bookings recorded in January, December and November."
      ],
      "metadata": {
        "id": "5I607AssEUdh"
      }
    },
    {
      "cell_type": "code",
      "source": [
        "sns.set_context('notebook')\n",
        "sns.set_style(\"white\")\n",
        "sns.set_palette('husl')\n",
        "\n",
        "g = sns.countplot(x='arrival_date_month',data=df, order=[\"January\",\"February\",\"March\",\"April\",\"May\",\"June\",\"July\",\"August\",\"September\",\"October\",\"November\",\"December\"])\n",
        "\n",
        "g.set_xlabel('Arrival Date Month',fontsize = 15)\n",
        "g.set_ylabel('Count',fontsize = 15)\n",
        "g.set_title('Arrival Date Month Count Plot', fontsize = 15, y = 1.06)\n",
        "\n",
        "plt.xticks(rotation = 90, fontsize = 12)\n",
        "plt.show()"
      ],
      "metadata": {
        "colab": {
          "base_uri": "https://localhost:8080/",
          "height": 374
        },
        "id": "a914kr4GEZpF",
        "outputId": "d342e66a-0408-443e-c768-40d008eda505"
      },
      "execution_count": 118,
      "outputs": [
        {
          "output_type": "display_data",
          "data": {
            "image/png": "[encoded data removed]",
            "text/plain": [
              "<Figure size 432x288 with 1 Axes>"
            ]
          },
          "metadata": {}
        }
      ]
    },
    {
      "cell_type": "markdown",
      "source": [
        "# 4) Country"
      ],
      "metadata": {
        "id": "pgZCXxT4EnWv"
      }
    },
    {
      "cell_type": "markdown",
      "source": [
        "#### Use value_count() method to overview of customer arrival by Country.\n",
        "\n",
        "#### We can see that around 41% of customers from Portugal, 10% from Great Britain and 8% from France."
      ],
      "metadata": {
        "id": "weafa7GfEoTM"
      }
    },
    {
      "cell_type": "code",
      "source": [
        "df['country'].value_counts(normalize = True)"
      ],
      "metadata": {
        "colab": {
          "base_uri": "https://localhost:8080/"
        },
        "id": "f_0yPnf1Et_P",
        "outputId": "333e5dbf-a4b6-4d11-dfd5-a22125faae80"
      },
      "execution_count": 119,
      "outputs": [
        {
          "output_type": "execute_result",
          "data": {
            "text/plain": [
              "PRT    0.408636\n",
              "GBR    0.102012\n",
              "FRA    0.087596\n",
              "ESP    0.072062\n",
              "DEU    0.061288\n",
              "         ...   \n",
              "DJI    0.000008\n",
              "BWA    0.000008\n",
              "HND    0.000008\n",
              "VGB    0.000008\n",
              "NAM    0.000008\n",
              "Name: country, Length: 177, dtype: float64"
            ]
          },
          "metadata": {},
          "execution_count": 119
        }
      ]
    },
    {
      "cell_type": "markdown",
      "source": [
        "### Visualizing Country of customer arrival using countplot.\n",
        " \n",
        "### As we can see from below plot that Most Customers are from Portugal, Great Britain, France and Spain."
      ],
      "metadata": {
        "id": "yGb32k4UEvKK"
      }
    },
    {
      "cell_type": "code",
      "source": [
        "sns.set_context('notebook')\n",
        "sns.set_style(\"white\")\n",
        "sns.set_palette('pastel')\n",
        " \n",
        "df['country'].value_counts(normalize = True)[0:10].plot(kind = 'bar')\n",
        "\n",
        "plt.xlabel('Country',fontsize = 15)\n",
        "plt.ylabel('Proportion',fontsize = 15)\n",
        "plt.title('Top 10 Countries', fontsize = 15, y = 1.06)\n",
        "\n",
        "plt.show()\n"
      ],
      "metadata": {
        "colab": {
          "base_uri": "https://localhost:8080/",
          "height": 332
        },
        "id": "_N3GlYEJEz1B",
        "outputId": "194a2c91-c7a2-48c4-9113-6b14131b098d"
      },
      "execution_count": 120,
      "outputs": [
        {
          "output_type": "display_data",
          "data": {
            "image/png": "[encoded data removed]",
            "text/plain": [
              "<Figure size 432x288 with 1 Axes>"
            ]
          },
          "metadata": {}
        }
      ]
    },
    {
      "cell_type": "markdown",
      "source": [
        "# 5) Stays in Week Nights and Weekend Nights"
      ],
      "metadata": {
        "id": "2UNITquVGlV2"
      }
    },
    {
      "cell_type": "markdown",
      "source": [
        "#### Use value_count() method to overview of basis of stay type.\n",
        "\n",
        "#### We can see that around 72% of customers stay during week nights compared to 27% who stays during week night."
      ],
      "metadata": {
        "id": "KP5o5cGBGsb1"
      }
    },
    {
      "cell_type": "code",
      "source": [
        "weekend_night_stay = df['stays_in_weekend_nights'].sum()\n",
        "week_night_stay = df['stays_in_week_nights'].sum()\n",
        "\n",
        "print(f'Weekend_night_stay % : {weekend_night_stay *100/(weekend_night_stay + week_night_stay)}')\n",
        "print(f'Week_night_stay % : {week_night_stay *100/(weekend_night_stay + week_night_stay)}')"
      ],
      "metadata": {
        "colab": {
          "base_uri": "https://localhost:8080/"
        },
        "id": "h5RlHl5mGvm5",
        "outputId": "0ce21090-293b-427b-efa2-80555e7a720d"
      },
      "execution_count": 121,
      "outputs": [
        {
          "output_type": "stream",
          "name": "stdout",
          "text": [
            "Weekend_night_stay % : 27.073323789539742\n",
            "Week_night_stay % : 72.92667621046026\n"
          ]
        }
      ]
    },
    {
      "cell_type": "markdown",
      "source": [
        "### Visualizing Stay Type countplot.\n",
        " \n",
        "### As we can see from below plot that more than 50% customers prefer Week Stay compared to Weekend Stay."
      ],
      "metadata": {
        "id": "BsDjdQcbG1fl"
      }
    },
    {
      "cell_type": "code",
      "source": [
        "stay_df = pd.DataFrame({'stay':['Weekend stay','Week Stay'], 'period':[weekend_night_stay,week_night_stay]})\n",
        "\n",
        "sns.set_context('notebook')\n",
        "sns.set_style(\"white\")\n",
        "sns.set_palette('pastel')\n",
        "\n",
        "g = sns.barplot(x='stay', y ='period', data = stay_df)\n",
        "\n",
        "g.set_xlabel('Type of Stay',fontsize = 15)\n",
        "g.set_ylabel('Count',fontsize = 15)\n",
        "g.set_title('Stay Type Count Plot ', fontsize = 15, y = 1.06)\n",
        "plt.show()"
      ],
      "metadata": {
        "colab": {
          "base_uri": "https://localhost:8080/",
          "height": 318
        },
        "id": "cP1P5lC2G2Tn",
        "outputId": "6b15e7ce-e17d-4af2-944f-de8f6441afbd"
      },
      "execution_count": 122,
      "outputs": [
        {
          "output_type": "display_data",
          "data": {
            "image/png": "[encoded data removed]",
            "text/plain": [
              "<Figure size 432x288 with 1 Axes>"
            ]
          },
          "metadata": {}
        }
      ]
    },
    {
      "cell_type": "markdown",
      "source": [
        "# 6) Deposit Type"
      ],
      "metadata": {
        "id": "OP80MQlIG5Cp"
      }
    },
    {
      "cell_type": "markdown",
      "source": [
        "#### Use value_count() method to overview of booking deposit type.\n",
        "\n",
        "#### We can see that around 87% customers made no deposit, 12% of deposit was non refundable."
      ],
      "metadata": {
        "id": "75bF4GpiG8_Y"
      }
    },
    {
      "cell_type": "code",
      "source": [
        "df['deposit_type'].value_counts(normalize=True)"
      ],
      "metadata": {
        "colab": {
          "base_uri": "https://localhost:8080/"
        },
        "id": "07Cy4sppHQW7",
        "outputId": "3a69a1ee-ce63-4175-9a99-8c79f5210641"
      },
      "execution_count": 123,
      "outputs": [
        {
          "output_type": "execute_result",
          "data": {
            "text/plain": [
              "No Deposit    0.876070\n",
              "Non Refund    0.122567\n",
              "Refundable    0.001363\n",
              "Name: deposit_type, dtype: float64"
            ]
          },
          "metadata": {},
          "execution_count": 123
        }
      ]
    },
    {
      "cell_type": "markdown",
      "source": [
        "### Visualizing Deposit Type using countplot.\n",
        "\n",
        "####As we can see from the count plot below that most customers did not made any initials deposits during booking time"
      ],
      "metadata": {
        "id": "zIBQLRXqHVIR"
      }
    },
    {
      "cell_type": "code",
      "source": [
        "sns.set_context('notebook')\n",
        "sns.set_style(\"white\")\n",
        "sns.set_palette('pastel')\n",
        "\n",
        "g = sns.countplot(x ='deposit_type', data = df, order = ['Refundable','Non Refund','No Deposit'])\n",
        "\n",
        "g.set_xlabel('Deposit Type',fontsize = 15)\n",
        "g.set_ylabel('Count',fontsize = 15)\n",
        "g.set_title('Deposit Type during booking Count Plot', fontsize = 15, y = 1.06)\n",
        "\n",
        "plt.show()"
      ],
      "metadata": {
        "colab": {
          "base_uri": "https://localhost:8080/",
          "height": 318
        },
        "id": "ol-g5up7HX4P",
        "outputId": "8ee224c0-db1b-437a-ca31-e52db986791d"
      },
      "execution_count": 124,
      "outputs": [
        {
          "output_type": "display_data",
          "data": {
            "image/png": "[encoded data removed]",
            "text/plain": [
              "<Figure size 432x288 with 1 Axes>"
            ]
          },
          "metadata": {}
        }
      ]
    },
    {
      "cell_type": "code",
      "source": [
        ""
      ],
      "metadata": {
        "id": "UShDAP3PHf4J"
      },
      "execution_count": 124,
      "outputs": []
    },
    {
      "cell_type": "markdown",
      "source": [
        "# 7) Total Guests"
      ],
      "metadata": {
        "id": "5QiwkHe3J3Ed"
      }
    },
    {
      "cell_type": "markdown",
      "source": [
        "#### Use value_count() method to overview Total Guests, which includes Adults, children and babies.\n",
        "\n",
        "#### We can see that more than 68% guests have only 2 members, around 18% are traveling alone. Some are travelling in groups more than 30."
      ],
      "metadata": {
        "id": "GR9H8G4CHsB9"
      }
    },
    {
      "cell_type": "code",
      "source": [
        "df['total_guests'] = (df['adults'] + df['children'] + df['babies'])\n",
        "df = df.astype({'total_guests':'int32'})\n",
        "df['total_guests'].value_counts(normalize = True)"
      ],
      "metadata": {
        "colab": {
          "base_uri": "https://localhost:8080/"
        },
        "id": "8lM92WEwHtEO",
        "outputId": "fddeafaa-6341-427c-99d0-65d680b8ec39"
      },
      "execution_count": 125,
      "outputs": [
        {
          "output_type": "execute_result",
          "data": {
            "text/plain": [
              "2     0.688658\n",
              "1     0.187463\n",
              "3     0.088134\n",
              "4     0.033020\n",
              "0     0.001430\n",
              "5     0.001152\n",
              "26    0.000042\n",
              "12    0.000017\n",
              "27    0.000017\n",
              "20    0.000017\n",
              "10    0.000017\n",
              "40    0.000008\n",
              "50    0.000008\n",
              "55    0.000008\n",
              "6     0.000008\n",
              "Name: total_guests, dtype: float64"
            ]
          },
          "metadata": {},
          "execution_count": 125
        }
      ]
    },
    {
      "cell_type": "markdown",
      "source": [
        "### Visualizing Total Guests Size using countplot.\n",
        "\n",
        "####As we can see from the count plot below that most most guest are travelling in group of 2 or solo."
      ],
      "metadata": {
        "id": "QB1fAQBUHxnM"
      }
    },
    {
      "cell_type": "code",
      "source": [
        "sns.set_context('notebook')\n",
        "sns.set_style(\"white\")\n",
        "sns.set_palette('pastel')\n",
        " \n",
        "df['total_guests'].value_counts(normalize = True)[0:4].plot(kind = 'bar')\n",
        "\n",
        "plt.xlabel('Total Guests',fontsize = 15)\n",
        "plt.ylabel('Proportion',fontsize = 15)\n",
        "plt.title('Total Guest Size', fontsize = 15, y = 1.06)\n",
        "\n",
        "plt.show()"
      ],
      "metadata": {
        "colab": {
          "base_uri": "https://localhost:8080/",
          "height": 314
        },
        "id": "A7JXNOSmH1qU",
        "outputId": "df064575-296c-4cba-d94a-d5d9408932fc"
      },
      "execution_count": 126,
      "outputs": [
        {
          "output_type": "display_data",
          "data": {
            "image/png": "[encoded data removed]",
            "text/plain": [
              "<Figure size 432x288 with 1 Axes>"
            ]
          },
          "metadata": {}
        }
      ]
    },
    {
      "cell_type": "markdown",
      "source": [
        "# 8) Customer Types"
      ],
      "metadata": {
        "id": "sh34-tdhH5HP"
      }
    },
    {
      "cell_type": "markdown",
      "source": [
        "#### Use value_count() method to overview different Customer Types.\n",
        "\n",
        "#### We can see Four different customer types:\n",
        "\n",
        "*   Transient\n",
        "*   Contract\n",
        "*   Transient-Party\n",
        "*   Group\n"
      ],
      "metadata": {
        "id": "bFXoHpWUH_-U"
      }
    },
    {
      "cell_type": "code",
      "source": [
        "df['customer_type'].value_counts(normalize = True)"
      ],
      "metadata": {
        "colab": {
          "base_uri": "https://localhost:8080/"
        },
        "id": "h1mi8FdYH9U0",
        "outputId": "c1cc0b78-3974-499f-9dfd-62467fe1c782"
      },
      "execution_count": 127,
      "outputs": [
        {
          "output_type": "execute_result",
          "data": {
            "text/plain": [
              "Transient          0.750004\n",
              "Transient-Party    0.210920\n",
              "Contract           0.034281\n",
              "Group              0.004794\n",
              "Name: customer_type, dtype: float64"
            ]
          },
          "metadata": {},
          "execution_count": 127
        }
      ]
    },
    {
      "cell_type": "markdown",
      "source": [
        "### Visualizing different Customer Types using count plot .\n",
        "\n",
        "####As we can see from the below Count Plot that Most of the customers are Transient around 75%, 21% Transient-Party customers, 3.4% Contract type and  around 0.47% customers are Group type."
      ],
      "metadata": {
        "id": "xCZxUwwgIEb0"
      }
    },
    {
      "cell_type": "code",
      "source": [
        "sns.set_context('notebook')\n",
        "sns.set_style(\"white\")\n",
        "sns.set_palette('husl')\n",
        "\n",
        "g = sns.countplot(x ='customer_type', data = df)\n",
        "\n",
        "g.set_xlabel('Customer Types',fontsize = 15)\n",
        "g.set_ylabel('Customer Count',fontsize = 15)\n",
        "g.set_title('Customer Type Count Plot', fontsize = 15, y = 1.06)\n",
        "\n",
        "plt.show()"
      ],
      "metadata": {
        "colab": {
          "base_uri": "https://localhost:8080/",
          "height": 318
        },
        "id": "U4sbc1iWIH7S",
        "outputId": "c46d240d-4dbb-4898-b85d-3d781dbb8067"
      },
      "execution_count": 128,
      "outputs": [
        {
          "output_type": "display_data",
          "data": {
            "image/png": "[encoded data removed]",
            "text/plain": [
              "<Figure size 432x288 with 1 Axes>"
            ]
          },
          "metadata": {}
        }
      ]
    },
    {
      "cell_type": "markdown",
      "source": [
        "# 9) Market Segment and Hotel Type\n",
        "#### Let us compare, the guests from different market segment and their hotel type preferance"
      ],
      "metadata": {
        "id": "qSrd7RfGIOzQ"
      }
    },
    {
      "cell_type": "markdown",
      "source": [
        "#### Use value_count() method to overview Market Segment\n",
        "\n",
        "#### We can see that there are total 7 types of market segments 'Online TA','Offline TA/TO','Groups','Direct','Corporate','Complementary' and 'Aviation"
      ],
      "metadata": {
        "id": "5qK8gh_QISV2"
      }
    },
    {
      "cell_type": "code",
      "source": [
        "df['market_segment'].value_counts(normalize = True)"
      ],
      "metadata": {
        "colab": {
          "base_uri": "https://localhost:8080/"
        },
        "id": "OzbYlqe-IXBa",
        "outputId": "8fa1421f-e285-4215-d67a-3094bb594408"
      },
      "execution_count": 129,
      "outputs": [
        {
          "output_type": "execute_result",
          "data": {
            "text/plain": [
              "Online TA        0.474373\n",
              "Offline TA/TO    0.203199\n",
              "Groups           0.166580\n",
              "Direct           0.104695\n",
              "Corporate        0.042986\n",
              "Complementary    0.006173\n",
              "Aviation         0.001993\n",
              "Name: market_segment, dtype: float64"
            ]
          },
          "metadata": {},
          "execution_count": 129
        }
      ]
    },
    {
      "cell_type": "code",
      "source": [
        "sns.set_context('notebook')\n",
        "sns.set_style(\"white\")\n",
        "sns.set_palette('Set1_r')\n",
        "sns.set(rc={'figure.figsize':(12,6)})\n",
        "\n",
        "a = sns.countplot(x ='market_segment',hue='hotel', data = df)\n",
        "\n",
        "a.set_title('Market Segment w.r.t Hotel Types', fontsize = 15)\n",
        "a.set_xlabel('Count',fontsize = 15)\n",
        "a.set_ylabel('Market Segment',fontsize = 15)"
      ],
      "metadata": {
        "colab": {
          "base_uri": "https://localhost:8080/",
          "height": 432
        },
        "id": "6fMeCoUZIehC",
        "outputId": "c255a688-6585-46c9-b1c5-de567c48d9bf"
      },
      "execution_count": 130,
      "outputs": [
        {
          "output_type": "execute_result",
          "data": {
            "text/plain": [
              "Text(0, 0.5, 'Market Segment')"
            ]
          },
          "metadata": {},
          "execution_count": 130
        },
        {
          "output_type": "display_data",
          "data": {
            "image/png": "[encoded data removed]",
            "text/plain": [
              "<Figure size 864x432 with 1 Axes>"
            ]
          },
          "metadata": {}
        }
      ]
    },
    {
      "cell_type": "markdown",
      "source": [
        "# 10) Repeated Customers"
      ],
      "metadata": {
        "id": "pd_57VuiIfj4"
      }
    },
    {
      "cell_type": "markdown",
      "source": [
        "#### Use value_count() method to overview Repeated Customers.\n",
        "\n",
        "#### We can see that around 3% are repeated guests."
      ],
      "metadata": {
        "id": "ZUI_prABIlG1"
      }
    },
    {
      "cell_type": "code",
      "source": [
        "df['is_repeated_guest'].value_counts(normalize = True)"
      ],
      "metadata": {
        "colab": {
          "base_uri": "https://localhost:8080/"
        },
        "id": "suXEU91gImPP",
        "outputId": "3ed5b9c4-8ed2-4aae-a801-9ff70efef43f"
      },
      "execution_count": 131,
      "outputs": [
        {
          "output_type": "execute_result",
          "data": {
            "text/plain": [
              "0    0.967989\n",
              "1    0.032011\n",
              "Name: is_repeated_guest, dtype: float64"
            ]
          },
          "metadata": {},
          "execution_count": 131
        }
      ]
    },
    {
      "cell_type": "code",
      "source": [
        "\n",
        "### Loyal and regular customers are essential for any thriving business. Hotel businesses are no exception.\n",
        "\n",
        "####Let us visualise the percentage counts of guests that repeat their visits."
      ],
      "metadata": {
        "id": "3lhnNWNEIoxB"
      },
      "execution_count": 132,
      "outputs": []
    },
    {
      "cell_type": "code",
      "source": [
        ""
      ],
      "metadata": {
        "id": "RQDzIp3XIv6A"
      },
      "execution_count": 132,
      "outputs": []
    },
    {
      "cell_type": "markdown",
      "source": [
        "# 11) Booking Changes"
      ],
      "metadata": {
        "id": "e2vo4J3yI0UL"
      }
    },
    {
      "cell_type": "markdown",
      "source": [
        "#### Use value_count() method to overview Booking Changes by Customer.\n",
        "\n",
        "#### We can see that around 84% customers have not made any changes and around 16% customers made booking changes."
      ],
      "metadata": {
        "id": "q_UxVU4mI3-k"
      }
    },
    {
      "cell_type": "code",
      "source": [
        "df['booking_changes'].value_counts(normalize = True)"
      ],
      "metadata": {
        "colab": {
          "base_uri": "https://localhost:8080/"
        },
        "id": "e2uSfpSMI7Af",
        "outputId": "08559046-cd97-42aa-bce1-8780a14343c0"
      },
      "execution_count": 133,
      "outputs": [
        {
          "output_type": "execute_result",
          "data": {
            "text/plain": [
              "0     0.848643\n",
              "1     0.106301\n",
              "2     0.031876\n",
              "3     0.007780\n",
              "4     0.003154\n",
              "5     0.000992\n",
              "6     0.000530\n",
              "7     0.000261\n",
              "8     0.000143\n",
              "9     0.000067\n",
              "10    0.000050\n",
              "13    0.000042\n",
              "14    0.000042\n",
              "15    0.000025\n",
              "16    0.000017\n",
              "17    0.000017\n",
              "12    0.000017\n",
              "11    0.000017\n",
              "20    0.000008\n",
              "21    0.000008\n",
              "18    0.000008\n",
              "Name: booking_changes, dtype: float64"
            ]
          },
          "metadata": {},
          "execution_count": 133
        }
      ]
    },
    {
      "cell_type": "markdown",
      "source": [
        "### Visualizing Booking Changes using count plot .\n",
        "\n",
        "####As we can see from the below Count Plot that 97% customers do not prefer to visit again."
      ],
      "metadata": {
        "id": "eb6H0GLvJIVI"
      }
    },
    {
      "cell_type": "code",
      "source": [
        "df['booking_changes'].value_counts(normalize = True)[:3].plot(kind = 'bar')\n",
        "\n",
        "sns.set_context('notebook')\n",
        "sns.set_style(\"white\")\n",
        "sns.set_palette('pastel')\n",
        "\n",
        "plt.xlabel('No. of Booking Changes',fontsize = 15)\n",
        "plt.ylabel('Proportion',fontsize = 15)\n",
        "plt.title('Booking Changes', fontsize = 15, y = 1.06)\n",
        "\n",
        "plt.show()\n"
      ],
      "metadata": {
        "colab": {
          "base_uri": "https://localhost:8080/",
          "height": 430
        },
        "id": "jSdLrzKpJLqb",
        "outputId": "a745f620-a78e-458d-db0e-5411ba6c6a50"
      },
      "execution_count": 135,
      "outputs": [
        {
          "output_type": "display_data",
          "data": {
            "image/png": "[encoded data removed]",
            "text/plain": [
              "<Figure size 864x432 with 1 Axes>"
            ]
          },
          "metadata": {}
        }
      ]
    },
    {
      "cell_type": "markdown",
      "source": [
        "# 12) Reserved Room Type"
      ],
      "metadata": {
        "id": "muM8ncVkJo1m"
      }
    },
    {
      "cell_type": "markdown",
      "source": [
        "#### Use value_count() method to overview Reserved Room Type .\n",
        "\n",
        "#### We can see that around 71% room type is 'A', 16% is 'D' and 5% is 'E'."
      ],
      "metadata": {
        "id": "feNeyQsWKuSl"
      }
    },
    {
      "cell_type": "code",
      "source": [
        "df['reserved_room_type'].value_counts(normalize = True)"
      ],
      "metadata": {
        "id": "4_GRPKy-Kyok"
      },
      "execution_count": null,
      "outputs": []
    },
    {
      "cell_type": "markdown",
      "source": [
        "### Visualizing Reserved Room Type using count plot .\n",
        "\n",
        "####As we can see from the below Count Plot that 71% customers prefer type 'A' and 16% prefer type 'D'."
      ],
      "metadata": {
        "id": "S3ai8bLMK1L9"
      }
    },
    {
      "cell_type": "code",
      "source": [
        "sns.set_context('notebook')\n",
        "sns.set_style(\"white\")\n",
        "sns.set_palette('husl')\n",
        "\n",
        "g = sns.countplot(x ='reserved_room_type', data = df)\n",
        "\n",
        "g.set_xlabel('Room Types',fontsize = 15)\n",
        "g.set_ylabel('Count',fontsize = 15)\n",
        "g.set_title('Reserved Room Type Count Plot', fontsize = 15, y = 1.06)\n",
        "\n",
        "plt.xticks(rotation = 90)\n",
        "\n",
        "plt.show()"
      ],
      "metadata": {
        "id": "4mHK2E13K5ht"
      },
      "execution_count": null,
      "outputs": []
    },
    {
      "cell_type": "markdown",
      "source": [
        "# 13) Distribution Channel"
      ],
      "metadata": {
        "id": "Yai0l3AkLAG8"
      }
    },
    {
      "cell_type": "markdown",
      "source": [
        "#### Use value_count() method to overview Distribution Channel\n",
        "\n",
        "#### We can see that around 82% distribution channel is 'TA/TO', 12% are 'Direct' and 5% are 'Corporate'"
      ],
      "metadata": {
        "id": "7zXfcpzlLGzg"
      }
    },
    {
      "cell_type": "code",
      "source": [
        "df['distribution_channel'].value_counts(normalize=True)"
      ],
      "metadata": {
        "id": "stkpqI2vLCVS"
      },
      "execution_count": null,
      "outputs": []
    },
    {
      "cell_type": "markdown",
      "source": [
        "### Visualizing Distribution Channel Type using count plot .\n",
        "\n",
        "####As we can see from the below Count Plot that there are five different types of distribution channel 'TA/TO','Direct','Corporate','GDS' and 'Undefined."
      ],
      "metadata": {
        "id": "NKaWP57lLMLB"
      }
    },
    {
      "cell_type": "code",
      "source": [
        "sns.set_context('notebook')\n",
        "sns.set_style(\"white\")\n",
        "sns.set_palette('husl')\n",
        "\n",
        "g = sns.countplot(x ='distribution_channel', data = df)\n",
        "\n",
        "g.set_xlabel('Distribution Segment Types',fontsize = 15)\n",
        "g.set_ylabel('Count',fontsize = 15)\n",
        "g.set_title('Distribution Segment Count Plot', fontsize = 15, y = 1.06)\n",
        "\n",
        "plt.xticks(rotation = 90)\n",
        "\n",
        "plt.show()"
      ],
      "metadata": {
        "colab": {
          "base_uri": "https://localhost:8080/",
          "height": 480
        },
        "id": "6e-n4aVGLPLa",
        "outputId": "30920260-10ed-4aac-e445-b586040cdebc"
      },
      "execution_count": 136,
      "outputs": [
        {
          "output_type": "display_data",
          "data": {
            "image/png": "[encoded data removed]",
            "text/plain": [
              "<Figure size 864x432 with 1 Axes>"
            ]
          },
          "metadata": {}
        }
      ]
    },
    {
      "cell_type": "markdown",
      "source": [
        "# 14) Average Daily Rate(ADR)"
      ],
      "metadata": {
        "id": "AmoSdjoLLvGq"
      }
    },
    {
      "cell_type": "markdown",
      "source": [
        "### Visualizing ADR vs Month variation .\n",
        "\n",
        "\n",
        "#### We can see that 'Resort' average daily price is very fluctuating(more variation) compared to 'Hotel' which is stable(less variation)."
      ],
      "metadata": {
        "id": "sovrigDSLwKq"
      }
    },
    {
      "cell_type": "code",
      "source": [
        "sns.set_context('notebook')\n",
        "sns.set_style(\"whitegrid\")\n",
        "sns.set_palette('pastel')\n",
        "\n",
        "plt.figure(figsize = (10,6))\n",
        "g = sns.lineplot(x = 'arrival_date_month', y = 'adr', data = df, hue = 'hotel')\n",
        "\n",
        "g.set_xlabel('Month',fontsize = 15)\n",
        "g.set_ylabel('Average Daily Rate',fontsize = 15)\n",
        "g.set_title('ADR v/s Month Plot', fontsize = 15, y = 1.06)\n",
        "\n",
        "plt.xticks(rotation = 90, fontsize = 10)\n",
        "plt.show()"
      ],
      "metadata": {
        "colab": {
          "base_uri": "https://localhost:8080/",
          "height": 478
        },
        "id": "VXBBK1rpMEZ6",
        "outputId": "cce4f4a8-8215-4d9d-9281-2c3e42eb9afc"
      },
      "execution_count": 137,
      "outputs": [
        {
          "output_type": "display_data",
          "data": {
            "image/png": "[encoded data removed]",
            "text/plain": [
              "<Figure size 720x432 with 1 Axes>"
            ]
          },
          "metadata": {}
        }
      ]
    }
  ],
  "metadata": {
    "colab": {
      "collapsed_sections": [],
      "name": "data_machines Hotel Booking Analysis Capstone Project.ipynb",
      "provenance": [],
      "authorship_tag": "ABX9TyMmrfNSWp3w1VCuUntjBmWy",
      "include_colab_link": true
    },
    "kernelspec": {
      "display_name": "Python 3",
      "name": "python3"
    },
    "language_info": {
      "name": "python"
    }
  },
  "nbformat": 4,
  "nbformat_minor": 0
}